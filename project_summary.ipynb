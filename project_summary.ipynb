{
  "nbformat": 4,
  "nbformat_minor": 0,
  "metadata": {
    "colab": {
      "provenance": [],
      "toc_visible": true,
      "authorship_tag": "ABX9TyNT8da6fRxX7U61V6/0/3u1",
      "include_colab_link": true
    },
    "kernelspec": {
      "name": "python3",
      "display_name": "Python 3"
    },
    "language_info": {
      "name": "python"
    }
  },
  "cells": [
    {
      "cell_type": "markdown",
      "metadata": {
        "id": "view-in-github",
        "colab_type": "text"
      },
      "source": [
        "<a href=\"https://colab.research.google.com/github/sharmilapadhy23/-CrackYourInternship/blob/main/project_summary.ipynb\" target=\"_parent\"><img src=\"https://colab.research.google.com/assets/colab-badge.svg\" alt=\"Open In Colab\"/></a>"
      ]
    },
    {
      "cell_type": "code",
      "source": [
        "!pip install transformers\n"
      ],
      "metadata": {
        "colab": {
          "base_uri": "https://localhost:8080/"
        },
        "id": "He1IXN6nbndq",
        "outputId": "8052eb45-de6e-4ee6-e714-3ea884f7e11f"
      },
      "execution_count": 4,
      "outputs": [
        {
          "output_type": "stream",
          "name": "stdout",
          "text": [
            "Requirement already satisfied: transformers in /usr/local/lib/python3.10/dist-packages (4.47.1)\n",
            "Requirement already satisfied: filelock in /usr/local/lib/python3.10/dist-packages (from transformers) (3.16.1)\n",
            "Requirement already satisfied: huggingface-hub<1.0,>=0.24.0 in /usr/local/lib/python3.10/dist-packages (from transformers) (0.27.0)\n",
            "Requirement already satisfied: numpy>=1.17 in /usr/local/lib/python3.10/dist-packages (from transformers) (1.26.4)\n",
            "Requirement already satisfied: packaging>=20.0 in /usr/local/lib/python3.10/dist-packages (from transformers) (24.2)\n",
            "Requirement already satisfied: pyyaml>=5.1 in /usr/local/lib/python3.10/dist-packages (from transformers) (6.0.2)\n",
            "Requirement already satisfied: regex!=2019.12.17 in /usr/local/lib/python3.10/dist-packages (from transformers) (2024.11.6)\n",
            "Requirement already satisfied: requests in /usr/local/lib/python3.10/dist-packages (from transformers) (2.32.3)\n",
            "Requirement already satisfied: tokenizers<0.22,>=0.21 in /usr/local/lib/python3.10/dist-packages (from transformers) (0.21.0)\n",
            "Requirement already satisfied: safetensors>=0.4.1 in /usr/local/lib/python3.10/dist-packages (from transformers) (0.4.5)\n",
            "Requirement already satisfied: tqdm>=4.27 in /usr/local/lib/python3.10/dist-packages (from transformers) (4.67.1)\n",
            "Requirement already satisfied: fsspec>=2023.5.0 in /usr/local/lib/python3.10/dist-packages (from huggingface-hub<1.0,>=0.24.0->transformers) (2024.10.0)\n",
            "Requirement already satisfied: typing-extensions>=3.7.4.3 in /usr/local/lib/python3.10/dist-packages (from huggingface-hub<1.0,>=0.24.0->transformers) (4.12.2)\n",
            "Requirement already satisfied: charset-normalizer<4,>=2 in /usr/local/lib/python3.10/dist-packages (from requests->transformers) (3.4.0)\n",
            "Requirement already satisfied: idna<4,>=2.5 in /usr/local/lib/python3.10/dist-packages (from requests->transformers) (3.10)\n",
            "Requirement already satisfied: urllib3<3,>=1.21.1 in /usr/local/lib/python3.10/dist-packages (from requests->transformers) (2.2.3)\n",
            "Requirement already satisfied: certifi>=2017.4.17 in /usr/local/lib/python3.10/dist-packages (from requests->transformers) (2024.12.14)\n"
          ]
        }
      ]
    },
    {
      "cell_type": "code",
      "source": [
        "!pip install langdetect\n"
      ],
      "metadata": {
        "colab": {
          "base_uri": "https://localhost:8080/"
        },
        "id": "QDujv93Fcyyr",
        "outputId": "0c65c393-0f99-4a11-e2b7-8c15ca477d9e"
      },
      "execution_count": 9,
      "outputs": [
        {
          "output_type": "stream",
          "name": "stdout",
          "text": [
            "Collecting langdetect\n",
            "  Downloading langdetect-1.0.9.tar.gz (981 kB)\n",
            "\u001b[?25l     \u001b[90m━━━━━━━━━━━━━━━━━━━━━━━━━━━━━━━━━━━━━━━━\u001b[0m \u001b[32m0.0/981.5 kB\u001b[0m \u001b[31m?\u001b[0m eta \u001b[36m-:--:--\u001b[0m\r\u001b[2K     \u001b[91m━━━━━\u001b[0m\u001b[91m╸\u001b[0m\u001b[90m━━━━━━━━━━━━━━━━━━━━━━━━━━━━━━━━━━\u001b[0m \u001b[32m143.4/981.5 kB\u001b[0m \u001b[31m4.5 MB/s\u001b[0m eta \u001b[36m0:00:01\u001b[0m\r\u001b[2K     \u001b[91m━━━━━━━━━━━━━━━━━━━━━━━━━━━━━━━\u001b[0m\u001b[91m╸\u001b[0m\u001b[90m━━━━━━━━\u001b[0m \u001b[32m778.2/981.5 kB\u001b[0m \u001b[31m11.2 MB/s\u001b[0m eta \u001b[36m0:00:01\u001b[0m\r\u001b[2K     \u001b[90m━━━━━━━━━━━━━━━━━━━━━━━━━━━━━━━━━━━━━━━━\u001b[0m \u001b[32m981.5/981.5 kB\u001b[0m \u001b[31m11.3 MB/s\u001b[0m eta \u001b[36m0:00:00\u001b[0m\n",
            "\u001b[?25h  Preparing metadata (setup.py) ... \u001b[?25l\u001b[?25hdone\n",
            "Requirement already satisfied: six in /usr/local/lib/python3.10/dist-packages (from langdetect) (1.17.0)\n",
            "Building wheels for collected packages: langdetect\n",
            "  Building wheel for langdetect (setup.py) ... \u001b[?25l\u001b[?25hdone\n",
            "  Created wheel for langdetect: filename=langdetect-1.0.9-py3-none-any.whl size=993222 sha256=b7d43fd7a2fd7d63365f6fc11f2111fc21dfe1f666ac0efaa889781fc249ad08\n",
            "  Stored in directory: /root/.cache/pip/wheels/95/03/7d/59ea870c70ce4e5a370638b5462a7711ab78fba2f655d05106\n",
            "Successfully built langdetect\n",
            "Installing collected packages: langdetect\n",
            "Successfully installed langdetect-1.0.9\n"
          ]
        }
      ]
    },
    {
      "cell_type": "code",
      "source": [
        "from transformers import pipeline\n",
        "from langdetect import detect\n",
        "import os\n",
        "\n",
        "def initialize_summarizer():\n",
        "    return pipeline(\"summarization\", model=\"facebook/bart-large-cnn\")\n",
        "\n",
        "def detect_language(text):\n",
        "    return detect(text)\n",
        "\n",
        "def summarize_text(text, summarizer, max_length=1000, min_length=30):\n",
        "    summary = summarizer(text, max_length=max_length, min_length=min_length, do_sample=False)\n",
        "    return summary[0]['summary_text']\n",
        "\n",
        "def summarize_from_file(file_path, summarizer, max_length=1000, min_length=30):\n",
        "    with open(file_path, 'r', encoding='utf-8') as file:\n",
        "        text = file.read()\n",
        "    return summarize_text(text, summarizer, max_length, min_length)\n",
        "\n",
        "def save_summary(summary, output_path):\n",
        "    with open(output_path, 'w', encoding='utf-8') as file:\n",
        "        file.write(summary)\n",
        "\n",
        "def get_valid_integer(prompt, default_value):\n",
        "    while True:\n",
        "        user_input = input(prompt)\n",
        "        if user_input == \"\":\n",
        "            return default_value\n",
        "        try:\n",
        "            return int(user_input)\n",
        "        except ValueError:\n",
        "            print(f\"Invalid input! Please enter a valid integer or press Enter for the default ({default_value}).\")\n",
        "\n",
        "if __name__ == \"__main__\":\n",
        "    summarizer = initialize_summarizer()\n",
        "    print(\"Summarizer initialized.\")\n",
        "\n",
        "    print(\"\\nChoose an input method:\")\n",
        "    print(\"1. Paste text manually\")\n",
        "    print(\"2. Load text from a file\")\n",
        "    choice = input(\"Enter 1 or 2: \")\n",
        "\n",
        "    max_length = get_valid_integer(\"Enter the maximum summary length (default 1000): \", 1000)\n",
        "    min_length = get_valid_integer(\"Enter the minimum summary length (default 30): \", 30)\n",
        "\n",
        "    try:\n",
        "        if choice == \"1\":\n",
        "            input_text = input(\"Paste your text here: \")\n",
        "            lang = detect_language(input_text)\n",
        "            if lang != \"en\":\n",
        "                print(f\"Warning: Detected language is not English (Detected: {lang})\")\n",
        "            summary = summarize_text(input_text, summarizer, max_length, min_length)\n",
        "        elif choice == \"2\":\n",
        "            file_path = input(\"Enter the path to the text file: \")\n",
        "            if not os.path.exists(file_path):\n",
        "                raise FileNotFoundError(\"File not found!\")\n",
        "            summary = summarize_from_file(file_path, summarizer, max_length, min_length)\n",
        "        else:\n",
        "            raise ValueError(\"Invalid choice.\")\n",
        "\n",
        "        print(\"\\nSummary:\")\n",
        "        print(summary)\n",
        "\n",
        "        save_option = input(\"Do you want to save the summary to a file? (yes/no): \").strip().lower()\n",
        "        if save_option == \"yes\":\n",
        "            output_path = input(\"Enter the output file path (e.g., summary.txt): \")\n",
        "            save_summary(summary, output_path)\n",
        "            print(f\"Summary saved to {output_path}\")\n",
        "    except Exception as e:\n",
        "        print(\"Error:\", e)\n"
      ],
      "metadata": {
        "colab": {
          "base_uri": "https://localhost:8080/"
        },
        "id": "AS0j77OFc4PV",
        "outputId": "ee005d97-1265-4655-887c-579a804e3160"
      },
      "execution_count": 12,
      "outputs": [
        {
          "output_type": "stream",
          "name": "stderr",
          "text": [
            "Device set to use cpu\n"
          ]
        },
        {
          "name": "stdout",
          "output_type": "stream",
          "text": [
            "Summarizer initialized.\n",
            "\n",
            "Choose an input method:\n",
            "1. Paste text manually\n",
            "2. Load text from a file\n",
            "Enter 1 or 2: 1\n",
            "Enter the maximum summary length (default 1000): There were little things that she simply could not stand. The sound of someone tapping their nails on the table. A person chewing with their mouth open. Another human imposing themselves into her space. She couldn't stand any of these things, but none of them compared to the number one thing she couldn't stand which topped all of them combined. What were the chances? It would have to be a lot more than 100 to 1. It was likely even more than 1,000 to 1. The more he thought about it, the odds of it happening had to be more than 10,000 to 1 and even 100,000 to 1. People often threw around the chances of something happening as being 1,000,000 to 1 as an exaggeration of an unlikely event, but he could see that they may actually be accurate in this situation. Whatever the odds of it happening, he knew they were big. What he didn't know was whether this happening was lucky or unlucky.\n",
            "Invalid input! Please enter a valid integer or press Enter for the default (1000).\n",
            "Enter the maximum summary length (default 1000): 100\n",
            "Enter the minimum summary length (default 30): 70\n",
            "Paste your text here: There were little things that she simply could not stand. The sound of someone tapping their nails on the table. A person chewing with their mouth open. Another human imposing themselves into her space. She couldn't stand any of these things, but none of them compared to the number one thing she couldn't stand which topped all of them combined. What were the chances? It would have to be a lot more than 100 to 1. It was likely even more than 1,000 to 1. The more he thought about it, the odds of it happening had to be more than 10,000 to 1 and even 100,000 to 1. People often threw around the chances of something happening as being 1,000,000 to 1 as an exaggeration of an unlikely event, but he could see that they may actually be accurate in this situation. Whatever the odds of it happening, he knew they were big. What he didn't know was whether this happening was lucky or unlucky.\n",
            "\n",
            "Summary:\n",
            "The odds of it happening had to be more than 10,000 to 1. People often threw around the chances of something happening as being 1,000,000. to 1 as an exaggeration of an unlikely event, but he could see that they may actually be accurate in this situation. What he didn't know was whether this happening was lucky or unlucky.\n",
            "Do you want to save the summary to a file? (yes/no): no\n"
          ]
        }
      ]
    }
  ]
}